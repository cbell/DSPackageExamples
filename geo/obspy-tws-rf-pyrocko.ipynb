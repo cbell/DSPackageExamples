{
 "nbformat": 4,
 "nbformat_minor": 2,
 "metadata": {
  "language_info": {
   "name": "python",
   "codemirror_mode": {
    "name": "ipython",
    "version": 3
   },
   "version": "2.7.16"
  },
  "orig_nbformat": 2,
  "file_extension": ".py",
  "mimetype": "text/x-python",
  "name": "python",
  "npconvert_exporter": "python",
  "pygments_lexer": "ipython3",
  "version": 3
 },
 "cells": [
  {
   "cell_type": "code",
   "metadata": {},
   "outputs": [],
   "source": [
    "Testing obspy:"
   ]
  },
  {
   "cell_type": "code",
   "execution_count": null,
   "metadata": {},
   "outputs": [],
   "source": [
    "from obspy import read\n",
    "%matplotlib inline\n",
    "st = read('http://examples.obspy.org/RJOB_061005_072159.ehz.new')\n",
    "print(st)\n",
    "len(st)\n",
    "tr = st[0]  # assign first and only trace to new variable\n",
    "print(tr)\n",
    "print(tr.stats)\n",
    "tr.stats.station\n",
    "tr.stats.gse2.datatype\n",
    "tr.data\n",
    "tr.data[0:3]\n",
    "len(tr)\n",
    "st.plot()\n"
   ]
  },
  {
   "cell_type": "markdown",
   "execution_count": null,
   "metadata": {},
   "outputs": [],
   "source": [
    "Testing telewavesim:"
   ]
  },
  {
   "cell_type": "code",
   "metadata": {},
   "outputs": [],
   "source": [
    "from telewavesim import utils\n",
    "# Define two-layer model with foliated eclogitic crust over isotropic half-space\n",
    "model = utils.Model([20, 0], [None, 3300.], [0, 6.0], [0, 3.6], ['EC_f', 'iso'], [0, 0], [0, 0], [0, 0])\n",
    "slow = 0.06     # s/km\n",
    "npts = 3000\n",
    "dt = 0.01      # s\n",
    "wvtype = 'SV'\n",
    "baz = 45.\n",
    "dp = 1000.\n",
    "st = utils.run_plane(model, slow, npts, dt, baz=baz, wvtype=wvtype, obs=True, dp=dp)\n",
    "st.plot(size=(600, 450))"
   ]
  },
  {
   "cell_type": "markdown",
   "execution_count": null,
   "metadata": {},
   "outputs": [],
   "source": [
    "Testing rf: "
   ]
  },
  {
   "cell_type": "code",
   "metadata": {},
   "outputs": [],
   "source": [
    "import matplotlib.pyplot as plt\n",
    "from rf import read_rf, rfstats\n",
    "\n",
    "stream = read_rf()\n",
    "print(stream)\n",
    "print('\\nStats:\\n', stream[0].stats)\n",
    "stream[:3].plot()"
   ]
  },
  {
   "cell_type": "markdown",
   "execution_count": null,
   "metadata": {},
   "outputs": [],
   "source": [
    "Testing pyrocko: "
   ]
  },
  {
   "cell_type": "code",
   "execution_count": null,
   "metadata": {},
   "outputs": [],
   "source": [
    "import numpy as num\n",
    "from pyrocko.dataset.gshhg import GSHHG\n",
    "\n",
    "gshhg = GSHHG.intermediate()\n",
    "# gshhg = GSHHG.full()\n",
    "# gshhg = GSHHG.low()\n",
    "\n",
    "gshhg.is_point_on_land(lat=32.1, lon=44.2)\n",
    "\n",
    "\n",
    "# Create a landmask for a regular grid\n",
    "lats = num.linspace(30., 50., 500)\n",
    "lons = num.linspace(2., 10., 500)\n",
    "\n",
    "lon_grid, lat_grid = num.meshgrid(lons, lats)\n",
    "coordinates = num.array([lat_grid.ravel(), lon_grid.ravel()]).T\n",
    "\n",
    "land_mask = gshhg.get_land_mask(coordinates).reshape(*lat_grid.shape)\n",
    "\n",
    "from matplotlib import pyplot as plt\n",
    "plt.pcolormesh(lons, lats, land_mask, cmap='Greys')\n",
    "plt.show()"
   ]
  }
 ]
}
