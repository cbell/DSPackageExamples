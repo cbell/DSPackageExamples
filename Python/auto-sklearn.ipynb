{
 "nbformat": 4,
 "nbformat_minor": 2,
 "metadata": {
  "language_info": {
   "name": "python",
   "codemirror_mode": {
    "name": "ipython",
    "version": 3
   }
  },
  "orig_nbformat": 2,
  "file_extension": ".py",
  "mimetype": "text/x-python",
  "name": "python",
  "npconvert_exporter": "python",
  "pygments_lexer": "ipython3",
  "version": 3
 },
 "cells": [
  {
   "cell_type": "code",
   "outputs": [],
   "source": [
    "import sklearn.model_selection\n",
    "import sklearn.datasets\n",
    "import sklearn.metrics\n",
    "\n",
    "import autosklearn.regression\n",
    "\n",
    "def main():\n",
    "    X, y = sklearn.datasets.load_boston(return_X_y=True)\n",
    "    feature_types = (['numerical'] * 3) + ['categorical'] + (['numerical'] * 9)\n",
    "    X_train, X_test, y_train, y_test = \\\n",
    "        sklearn.model_selection.train_test_split(X, y, random_state=1)\n",
    "\n",
    "    automl = autosklearn.regression.AutoSklearnRegressor(\n",
    "        time_left_for_this_task=120,\n",
    "        per_run_time_limit=30,\n",
    "        tmp_folder='/tmp/autosklearn_regression_example_tmp',\n",
    "        output_folder='/tmp/autosklearn_regression_example_out',\n",
    "    )\n",
    "    automl.fit(X_train, y_train, dataset_name='boston',\n",
    "               feat_type=feature_types)\n",
    "\n",
    "    print(automl.show_models())\n",
    "    predictions = automl.predict(X_test)\n",
    "    print(\"R2 score:\", sklearn.metrics.r2_score(y_test, predictions))\n",
    "\n",
    "\n",
    "if __name__ == '__main__':\n",
    "    main()"
   ],
   "metadata": {},
   "execution_count": null
  }
 ]
}